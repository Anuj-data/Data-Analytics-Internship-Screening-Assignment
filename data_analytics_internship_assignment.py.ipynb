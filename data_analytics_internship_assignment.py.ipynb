{
 "cells": [
  {
   "cell_type": "code",
   "execution_count": 1,
   "id": "38e4ae22-8e24-4c38-a438-621c52ad0905",
   "metadata": {},
   "outputs": [
    {
     "name": "stdout",
     "output_type": "stream",
     "text": [
      "Requirement already satisfied: pandas in c:\\users\\anujn\\appdata\\local\\programs\\python\\python313\\lib\\site-packages (2.2.3)\n",
      "Collecting openpyxl\n",
      "  Downloading openpyxl-3.1.5-py2.py3-none-any.whl.metadata (2.5 kB)\n",
      "Requirement already satisfied: numpy>=1.26.0 in c:\\users\\anujn\\appdata\\local\\programs\\python\\python313\\lib\\site-packages (from pandas) (2.1.3)\n",
      "Requirement already satisfied: python-dateutil>=2.8.2 in c:\\users\\anujn\\appdata\\local\\programs\\python\\python313\\lib\\site-packages (from pandas) (2.9.0.post0)\n",
      "Requirement already satisfied: pytz>=2020.1 in c:\\users\\anujn\\appdata\\local\\programs\\python\\python313\\lib\\site-packages (from pandas) (2024.2)\n",
      "Requirement already satisfied: tzdata>=2022.7 in c:\\users\\anujn\\appdata\\local\\programs\\python\\python313\\lib\\site-packages (from pandas) (2024.2)\n",
      "Collecting et-xmlfile (from openpyxl)\n",
      "  Downloading et_xmlfile-2.0.0-py3-none-any.whl.metadata (2.7 kB)\n",
      "Requirement already satisfied: six>=1.5 in c:\\users\\anujn\\appdata\\local\\programs\\python\\python313\\lib\\site-packages (from python-dateutil>=2.8.2->pandas) (1.16.0)\n",
      "Downloading openpyxl-3.1.5-py2.py3-none-any.whl (250 kB)\n",
      "Downloading et_xmlfile-2.0.0-py3-none-any.whl (18 kB)\n",
      "Installing collected packages: et-xmlfile, openpyxl\n",
      "Successfully installed et-xmlfile-2.0.0 openpyxl-3.1.5\n",
      "Note: you may need to restart the kernel to use updated packages.\n"
     ]
    }
   ],
   "source": [
    "pip install pandas openpyxl"
   ]
  },
  {
   "cell_type": "markdown",
   "id": "bd1d50df-5f61-42b3-bc00-6ac207b72fdd",
   "metadata": {},
   "source": [
    "# Load the Excel File"
   ]
  },
  {
   "cell_type": "code",
   "execution_count": 2,
   "id": "af9da9e2-277a-4da0-86bd-4e2d5f59b1a7",
   "metadata": {},
   "outputs": [
    {
     "name": "stdout",
     "output_type": "stream",
     "text": [
      "Sheet names: ['UserDetails.csv', 'CookingSessions.csv', 'OrderDetails.csv']\n"
     ]
    }
   ],
   "source": [
    "import pandas as pd\n",
    "\n",
    "# Specify the file path\n",
    "file_path = r'C:\\Users\\anujn\\Desktop\\assigment 2\\Data Analyst Intern Assignment - Excel.xlsx'\n",
    "\n",
    "# Load the Excel file\n",
    "excel_data = pd.ExcelFile(file_path)\n",
    "\n",
    "# Check the sheet names\n",
    "print(\"Sheet names:\", excel_data.sheet_names)\n"
   ]
  },
  {
   "cell_type": "markdown",
   "id": "21f1e223-f6ab-47ba-bc60-1c97123a1181",
   "metadata": {},
   "source": [
    "# Load Each Table"
   ]
  },
  {
   "cell_type": "code",
   "execution_count": 8,
   "id": "29c0ae4b-771f-48e4-a521-617678c9e376",
   "metadata": {},
   "outputs": [
    {
     "name": "stdout",
     "output_type": "stream",
     "text": [
      "User Details:\n",
      "  User ID      User Name  Age       Location Registration Date         Phone  \\\n",
      "0    U001  Alice Johnson   28       New York        2023-01-15  123-456-7890   \n",
      "1    U002      Bob Smith   35    Los Angeles        2023-02-20  987-654-3210   \n",
      "2    U003    Charlie Lee   42        Chicago        2023-03-10  555-123-4567   \n",
      "3    U004    David Brown   27  San Francisco        2023-04-05  444-333-2222   \n",
      "4    U005     Emma White   30        Seattle        2023-05-22  777-888-9999   \n",
      "\n",
      "               Email Favorite Meal  Total Orders  \n",
      "0    alice@email.com        Dinner            12  \n",
      "1      bob@email.com         Lunch             8  \n",
      "2  charlie@email.com     Breakfast            15  \n",
      "3    david@email.com        Dinner            10  \n",
      "4     emma@email.com         Lunch             9  \n",
      "Cooking Sessions:\n",
      "  Session ID User ID        Dish Name  Meal Type       Session Start  \\\n",
      "0       S001    U001        Spaghetti     Dinner 2024-12-01 19:00:00   \n",
      "1       S002    U002     Caesar Salad      Lunch 2024-12-01 12:00:00   \n",
      "2       S003    U003  Grilled Chicken     Dinner 2024-12-02 19:30:00   \n",
      "3       S004    U001         Pancakes  Breakfast 2024-12-02 07:30:00   \n",
      "4       S005    U004     Caesar Salad      Lunch 2024-12-03 13:00:00   \n",
      "\n",
      "          Session End  Duration (mins)  Session Rating  \n",
      "0 2024-12-01 19:30:00               30             4.5  \n",
      "1 2024-12-01 12:20:00               20             4.0  \n",
      "2 2024-12-02 20:10:00               40             4.8  \n",
      "3 2024-12-02 08:00:00               30             4.2  \n",
      "4 2024-12-03 13:15:00               15             4.7  \n",
      "Order Details:\n",
      "   Order ID User ID Order Date  Meal Type        Dish Name Order Status  \\\n",
      "0      1001    U001 2024-12-01     Dinner        Spaghetti    Completed   \n",
      "1      1002    U002 2024-12-01      Lunch     Caesar Salad    Completed   \n",
      "2      1003    U003 2024-12-02     Dinner  Grilled Chicken     Canceled   \n",
      "3      1004    U001 2024-12-02  Breakfast         Pancakes    Completed   \n",
      "4      1005    U004 2024-12-03      Lunch     Caesar Salad    Completed   \n",
      "\n",
      "   Amount (USD) Time of Day  Rating Session ID  \n",
      "0          15.0       Night     5.0       S001  \n",
      "1          10.0         Day     4.0       S002  \n",
      "2          12.5       Night     NaN       S003  \n",
      "3           8.0     Morning     4.0       S004  \n",
      "4           9.0         Day     4.0       S005  \n"
     ]
    }
   ],
   "source": [
    "user_details = excel_data.parse('UserDetails.csv')\n",
    "cooking_sessions = excel_data.parse('CookingSessions.csv')\n",
    "order_details = excel_data.parse('OrderDetails.csv') \n",
    "\n",
    "print(\"User Details:\")\n",
    "print(user_details.head())\n",
    "\n",
    "print(\"Cooking Sessions:\")\n",
    "print(cooking_sessions.head())\n",
    "\n",
    "print(\"Order Details:\")\n",
    "print(order_details.head())"
   ]
  },
  {
   "cell_type": "markdown",
   "id": "7e34f119-815d-4ea5-92fa-68e750ed3d2f",
   "metadata": {},
   "source": [
    "# Handle Missing Values"
   ]
  },
  {
   "cell_type": "code",
   "execution_count": 11,
   "id": "4511779b-04a3-43e1-8201-b3c8502fed0f",
   "metadata": {},
   "outputs": [
    {
     "name": "stdout",
     "output_type": "stream",
     "text": [
      "Order ID        0\n",
      "User ID         0\n",
      "Order Date      0\n",
      "Meal Type       0\n",
      "Dish Name       0\n",
      "Order Status    0\n",
      "Amount (USD)    0\n",
      "Time of Day     0\n",
      "Rating          2\n",
      "Session ID      0\n",
      "dtype: int64\n",
      "User ID              0\n",
      "User Name            0\n",
      "Age                  0\n",
      "Location             0\n",
      "Registration Date    0\n",
      "Phone                0\n",
      "Email                0\n",
      "Favorite Meal        0\n",
      "Total Orders         0\n",
      "dtype: int64\n",
      "Session ID         0\n",
      "User ID            0\n",
      "Dish Name          0\n",
      "Meal Type          0\n",
      "Session Start      0\n",
      "Session End        0\n",
      "Duration (mins)    0\n",
      "Session Rating     0\n",
      "dtype: int64\n"
     ]
    }
   ],
   "source": [
    "print(order_details.isnull().sum())\n",
    "print(user_details.isnull().sum())\n",
    "print(cooking_sessions.isnull().sum())"
   ]
  },
  {
   "cell_type": "code",
   "execution_count": 19,
   "id": "1077a7e9-1456-4a83-b2a0-e0e57745feaf",
   "metadata": {},
   "outputs": [],
   "source": [
    "order_details.dropna(inplace = True)\n"
   ]
  },
  {
   "cell_type": "markdown",
   "id": "dd620d52-d94c-419c-9927-b012ac7159de",
   "metadata": {},
   "source": [
    "# Merge the Data"
   ]
  },
  {
   "cell_type": "code",
   "execution_count": 23,
   "id": "823e2249-d030-45ce-b9ef-11e5f7f41714",
   "metadata": {},
   "outputs": [
    {
     "data": {
      "text/html": [
       "<div>\n",
       "<style scoped>\n",
       "    .dataframe tbody tr th:only-of-type {\n",
       "        vertical-align: middle;\n",
       "    }\n",
       "\n",
       "    .dataframe tbody tr th {\n",
       "        vertical-align: top;\n",
       "    }\n",
       "\n",
       "    .dataframe thead th {\n",
       "        text-align: right;\n",
       "    }\n",
       "</style>\n",
       "<table border=\"1\" class=\"dataframe\">\n",
       "  <thead>\n",
       "    <tr style=\"text-align: right;\">\n",
       "      <th></th>\n",
       "      <th>User ID</th>\n",
       "      <th>User Name</th>\n",
       "      <th>Age</th>\n",
       "      <th>Location</th>\n",
       "      <th>Registration Date</th>\n",
       "      <th>Phone</th>\n",
       "      <th>Email</th>\n",
       "      <th>Favorite Meal</th>\n",
       "      <th>Total Orders</th>\n",
       "      <th>Session ID_x</th>\n",
       "      <th>...</th>\n",
       "      <th>Session Rating</th>\n",
       "      <th>Order ID</th>\n",
       "      <th>Order Date</th>\n",
       "      <th>Meal Type_y</th>\n",
       "      <th>Dish Name_y</th>\n",
       "      <th>Order Status</th>\n",
       "      <th>Amount (USD)</th>\n",
       "      <th>Time of Day</th>\n",
       "      <th>Rating</th>\n",
       "      <th>Session ID_y</th>\n",
       "    </tr>\n",
       "  </thead>\n",
       "  <tbody>\n",
       "    <tr>\n",
       "      <th>0</th>\n",
       "      <td>U001</td>\n",
       "      <td>Alice Johnson</td>\n",
       "      <td>28</td>\n",
       "      <td>New York</td>\n",
       "      <td>2023-01-15</td>\n",
       "      <td>123-456-7890</td>\n",
       "      <td>alice@email.com</td>\n",
       "      <td>Dinner</td>\n",
       "      <td>12</td>\n",
       "      <td>S001</td>\n",
       "      <td>...</td>\n",
       "      <td>4.5</td>\n",
       "      <td>1001</td>\n",
       "      <td>2024-12-01</td>\n",
       "      <td>Dinner</td>\n",
       "      <td>Spaghetti</td>\n",
       "      <td>Completed</td>\n",
       "      <td>15.0</td>\n",
       "      <td>Night</td>\n",
       "      <td>5.0</td>\n",
       "      <td>S001</td>\n",
       "    </tr>\n",
       "    <tr>\n",
       "      <th>1</th>\n",
       "      <td>U001</td>\n",
       "      <td>Alice Johnson</td>\n",
       "      <td>28</td>\n",
       "      <td>New York</td>\n",
       "      <td>2023-01-15</td>\n",
       "      <td>123-456-7890</td>\n",
       "      <td>alice@email.com</td>\n",
       "      <td>Dinner</td>\n",
       "      <td>12</td>\n",
       "      <td>S001</td>\n",
       "      <td>...</td>\n",
       "      <td>4.5</td>\n",
       "      <td>1004</td>\n",
       "      <td>2024-12-02</td>\n",
       "      <td>Breakfast</td>\n",
       "      <td>Pancakes</td>\n",
       "      <td>Completed</td>\n",
       "      <td>8.0</td>\n",
       "      <td>Morning</td>\n",
       "      <td>4.0</td>\n",
       "      <td>S004</td>\n",
       "    </tr>\n",
       "    <tr>\n",
       "      <th>2</th>\n",
       "      <td>U001</td>\n",
       "      <td>Alice Johnson</td>\n",
       "      <td>28</td>\n",
       "      <td>New York</td>\n",
       "      <td>2023-01-15</td>\n",
       "      <td>123-456-7890</td>\n",
       "      <td>alice@email.com</td>\n",
       "      <td>Dinner</td>\n",
       "      <td>12</td>\n",
       "      <td>S001</td>\n",
       "      <td>...</td>\n",
       "      <td>4.5</td>\n",
       "      <td>1009</td>\n",
       "      <td>2024-12-05</td>\n",
       "      <td>Dinner</td>\n",
       "      <td>Grilled Chicken</td>\n",
       "      <td>Completed</td>\n",
       "      <td>12.0</td>\n",
       "      <td>Night</td>\n",
       "      <td>5.0</td>\n",
       "      <td>S009</td>\n",
       "    </tr>\n",
       "    <tr>\n",
       "      <th>3</th>\n",
       "      <td>U001</td>\n",
       "      <td>Alice Johnson</td>\n",
       "      <td>28</td>\n",
       "      <td>New York</td>\n",
       "      <td>2023-01-15</td>\n",
       "      <td>123-456-7890</td>\n",
       "      <td>alice@email.com</td>\n",
       "      <td>Dinner</td>\n",
       "      <td>12</td>\n",
       "      <td>S004</td>\n",
       "      <td>...</td>\n",
       "      <td>4.2</td>\n",
       "      <td>1001</td>\n",
       "      <td>2024-12-01</td>\n",
       "      <td>Dinner</td>\n",
       "      <td>Spaghetti</td>\n",
       "      <td>Completed</td>\n",
       "      <td>15.0</td>\n",
       "      <td>Night</td>\n",
       "      <td>5.0</td>\n",
       "      <td>S001</td>\n",
       "    </tr>\n",
       "    <tr>\n",
       "      <th>4</th>\n",
       "      <td>U001</td>\n",
       "      <td>Alice Johnson</td>\n",
       "      <td>28</td>\n",
       "      <td>New York</td>\n",
       "      <td>2023-01-15</td>\n",
       "      <td>123-456-7890</td>\n",
       "      <td>alice@email.com</td>\n",
       "      <td>Dinner</td>\n",
       "      <td>12</td>\n",
       "      <td>S004</td>\n",
       "      <td>...</td>\n",
       "      <td>4.2</td>\n",
       "      <td>1004</td>\n",
       "      <td>2024-12-02</td>\n",
       "      <td>Breakfast</td>\n",
       "      <td>Pancakes</td>\n",
       "      <td>Completed</td>\n",
       "      <td>8.0</td>\n",
       "      <td>Morning</td>\n",
       "      <td>4.0</td>\n",
       "      <td>S004</td>\n",
       "    </tr>\n",
       "  </tbody>\n",
       "</table>\n",
       "<p>5 rows × 25 columns</p>\n",
       "</div>"
      ],
      "text/plain": [
       "  User ID      User Name  Age  Location Registration Date         Phone  \\\n",
       "0    U001  Alice Johnson   28  New York        2023-01-15  123-456-7890   \n",
       "1    U001  Alice Johnson   28  New York        2023-01-15  123-456-7890   \n",
       "2    U001  Alice Johnson   28  New York        2023-01-15  123-456-7890   \n",
       "3    U001  Alice Johnson   28  New York        2023-01-15  123-456-7890   \n",
       "4    U001  Alice Johnson   28  New York        2023-01-15  123-456-7890   \n",
       "\n",
       "             Email Favorite Meal  Total Orders Session ID_x  ...  \\\n",
       "0  alice@email.com        Dinner            12         S001  ...   \n",
       "1  alice@email.com        Dinner            12         S001  ...   \n",
       "2  alice@email.com        Dinner            12         S001  ...   \n",
       "3  alice@email.com        Dinner            12         S004  ...   \n",
       "4  alice@email.com        Dinner            12         S004  ...   \n",
       "\n",
       "  Session Rating Order ID Order Date Meal Type_y      Dish Name_y  \\\n",
       "0            4.5     1001 2024-12-01      Dinner        Spaghetti   \n",
       "1            4.5     1004 2024-12-02   Breakfast         Pancakes   \n",
       "2            4.5     1009 2024-12-05      Dinner  Grilled Chicken   \n",
       "3            4.2     1001 2024-12-01      Dinner        Spaghetti   \n",
       "4            4.2     1004 2024-12-02   Breakfast         Pancakes   \n",
       "\n",
       "   Order Status  Amount (USD) Time of Day Rating Session ID_y  \n",
       "0     Completed          15.0       Night    5.0         S001  \n",
       "1     Completed           8.0     Morning    4.0         S004  \n",
       "2     Completed          12.0       Night    5.0         S009  \n",
       "3     Completed          15.0       Night    5.0         S001  \n",
       "4     Completed           8.0     Morning    4.0         S004  \n",
       "\n",
       "[5 rows x 25 columns]"
      ]
     },
     "execution_count": 23,
     "metadata": {},
     "output_type": "execute_result"
    }
   ],
   "source": [
    "# Merge user_session Table with cooking_session Table\n",
    "\n",
    "merged_data = pd.merge(user_details, cooking_sessions, on='User ID', how = 'inner')\n",
    "\n",
    "# Merge the result with order_details table\n",
    "final_data = pd.merge(merged_data, order_details, on='User ID', how = 'inner')\n",
    "\n",
    "final_data.head()"
   ]
  },
  {
   "cell_type": "markdown",
   "id": "00408ccc-1059-4b79-9094-d42c6b3f4d5a",
   "metadata": {},
   "source": [
    "# Perform Analysis"
   ]
  },
  {
   "cell_type": "code",
   "execution_count": 30,
   "id": "3a28757a-8f13-4b6f-90fc-d359c155fb4f",
   "metadata": {},
   "outputs": [
    {
     "name": "stdout",
     "output_type": "stream",
     "text": [
      "Top 5 Popular Dishes:\n",
      "Dish Name_y\n",
      "Spaghetti          9\n",
      "Caesar Salad       7\n",
      "Pancakes           6\n",
      "Grilled Chicken    6\n",
      "Oatmeal            3\n",
      "Name: count, dtype: int64\n"
     ]
    }
   ],
   "source": [
    "# Most popular dishes\n",
    "popular_dishes = final_data['Dish Name_y'].value_counts().head(5)\n",
    "print(\"Top 5 Popular Dishes:\")\n",
    "print(popular_dishes)\n"
   ]
  },
  {
   "cell_type": "markdown",
   "id": "4ae70cc2-efb2-421f-a504-0b1581c5cff9",
   "metadata": {},
   "source": [
    "## Understand the age distribution, location-wise concentration, and registration trends."
   ]
  },
  {
   "cell_type": "code",
   "execution_count": 41,
   "id": "a1fe7e5f-2d73-40be-b019-f04a8a2aa54b",
   "metadata": {},
   "outputs": [
    {
     "data": {
      "image/png": "[encoded data removed]",
      "text/plain": [
       "<Figure size 640x480 with 1 Axes>"
      ]
     },
     "metadata": {},
     "output_type": "display_data"
    }
   ],
   "source": [
    "user_details['Age'].hist(bins=10, color='skyblue', edgecolor='black')\n",
    "plt.title('Age Distribution of Users')\n",
    "plt.xlabel('Age')\n",
    "plt.ylabel('Count')\n",
    "plt.show()\n"
   ]
  },
  {
   "cell_type": "markdown",
   "id": "d4556c03-469a-4409-be35-8b882a39bf8a",
   "metadata": {},
   "source": [
    "## Group users by Location to identify the most and least active locations."
   ]
  },
  {
   "cell_type": "code",
   "execution_count": 43,
   "id": "ba5c2074-e9a3-4c72-8754-73ac8097e10f",
   "metadata": {},
   "outputs": [
    {
     "data": {
      "text/plain": [
       "<bound method NDFrame.head of Location\n",
       "New York         1\n",
       "Los Angeles      1\n",
       "Chicago          1\n",
       "San Francisco    1\n",
       "Seattle          1\n",
       "Austin           1\n",
       "Boston           1\n",
       "Miami            1\n",
       "Dallas           1\n",
       "Phoenix          1\n",
       "Name: count, dtype: int64>"
      ]
     },
     "execution_count": 43,
     "metadata": {},
     "output_type": "execute_result"
    }
   ],
   "source": [
    "Location_data = user_details['Location'].value_counts()\n",
    "location_data.head\n"
   ]
  },
  {
   "cell_type": "markdown",
   "id": "7627a89d-910b-4b4d-9990-d03f10de18c7",
   "metadata": {},
   "source": [
    "# User Behavior\n",
    "#### Identify the most popular meals by counting the occurrences in Favorite Meal"
   ]
  },
  {
   "cell_type": "code",
   "execution_count": 46,
   "id": "c9898739-8b21-406d-bffb-a05f9e8bad7e",
   "metadata": {},
   "outputs": [
    {
     "name": "stdout",
     "output_type": "stream",
     "text": [
      "Favorite Meal\n",
      "Dinner       5\n",
      "Lunch        3\n",
      "Breakfast    2\n",
      "Name: count, dtype: int64\n"
     ]
    }
   ],
   "source": [
    "popular_meals = user_details['Favorite Meal'].value_counts()\n",
    "print(popular_meals)"
   ]
  },
  {
   "cell_type": "markdown",
   "id": "6ee5f5ff-fc2c-4c75-8304-8c324c82c7ac",
   "metadata": {},
   "source": [
    "#### Analyze the distribution of Total Orders to identify highly active users."
   ]
  },
  {
   "cell_type": "code",
   "execution_count": 53,
   "id": "2730fe05-c5a9-44d2-82aa-7b89186fc3df",
   "metadata": {},
   "outputs": [
    {
     "data": {
      "image/png": "[encoded data removed]",
      "text/plain": [
       "<Figure size 640x480 with 1 Axes>"
      ]
     },
     "metadata": {},
     "output_type": "display_data"
    }
   ],
   "source": [
    "user_details['Total Orders'].hist(bins = 10, color='orange', edgecolor='black')\n",
    "plt.title('Distribution Of Total Orders')\n",
    "plt.xlabel('Total Orders')\n",
    "plt.ylabel('Count')\n",
    "plt.show()"
   ]
  },
  {
   "cell_type": "markdown",
   "id": "acd2f816-c3bf-44c5-b10f-4d2dcf278112",
   "metadata": {},
   "source": [
    "# Session Analysis\n",
    "#### Calculate the average rating per session and identify sessions with the highest/lowest ratings"
   ]
  },
  {
   "cell_type": "code",
   "execution_count": 57,
   "id": "28f9e7fb-f31e-459d-a4b2-62cbc3450253",
   "metadata": {},
   "outputs": [
    {
     "name": "stdout",
     "output_type": "stream",
     "text": [
      "Session ID_x\n",
      "S015    5.0\n",
      "S009    4.9\n",
      "S003    4.8\n",
      "S014    4.8\n",
      "S012    4.7\n",
      "S005    4.7\n",
      "S007    4.6\n",
      "S011    4.6\n",
      "S001    4.5\n",
      "S013    4.4\n",
      "Name: Session Rating, dtype: float64\n"
     ]
    }
   ],
   "source": [
    "avg_rating = final_data.groupby('Session ID_x')['Session Rating'].mean()\n",
    "print(avg_rating.sort_values(ascending=False).head(10))\n"
   ]
  },
  {
   "cell_type": "markdown",
   "id": "e5527146-ec38-4245-ba88-52416e0c627c",
   "metadata": {},
   "source": [
    "#### Analyze which times of the day (e.g., morning, afternoon, evening) are most popular for sessions"
   ]
  },
  {
   "cell_type": "code",
   "execution_count": 66,
   "id": "f142d5c2-6a12-4d58-9e11-f1a82c7913db",
   "metadata": {},
   "outputs": [
    {
     "name": "stdout",
     "output_type": "stream",
     "text": [
      "Time of Day\n",
      "Night      15\n",
      "Morning     9\n",
      "Day         8\n",
      "Name: count, dtype: int64\n"
     ]
    }
   ],
   "source": [
    "time_of_day_counts = final_data['Time of Day'].value_counts()\n",
    "print(time_of_day_counts)"
   ]
  },
  {
   "cell_type": "markdown",
   "id": "b4ca34a6-abe6-433a-9b6d-135f260a2430",
   "metadata": {},
   "source": [
    "# Ratings Analysis"
   ]
  },
  {
   "cell_type": "markdown",
   "id": "9f91a0aa-47b3-4ff0-8fba-a7d7cfd902ec",
   "metadata": {},
   "source": [
    "#### Plot the distribution of Rating to see the general user satisfaction levels"
   ]
  },
  {
   "cell_type": "code",
   "execution_count": 70,
   "id": "bacb2fad-1950-4daa-b428-d19e2c1a676b",
   "metadata": {},
   "outputs": [
    {
     "data": {
      "image/png": "[encoded data removed]",
      "text/plain": [
       "<Figure size 640x480 with 1 Axes>"
      ]
     },
     "metadata": {},
     "output_type": "display_data"
    }
   ],
   "source": [
    "final_data['Rating'].hist(bins=5, color='green', edgecolor='black')\n",
    "plt.title('Rating Distribution')\n",
    "plt.xlabel('Rating')\n",
    "plt.ylabel('Count')\n",
    "plt.show()"
   ]
  },
  {
   "cell_type": "markdown",
   "id": "81fe4c11-8900-4060-8120-9a7369bace74",
   "metadata": {},
   "source": [
    "# Revenue Insights:"
   ]
  },
  {
   "cell_type": "code",
   "execution_count": 71,
   "id": "a23e0f36-6471-4d0b-9f11-6195fb4795bb",
   "metadata": {},
   "outputs": [
    {
     "name": "stdout",
     "output_type": "stream",
     "text": [
      "Total Revenue: $349.50, Average Revenue: $10.92\n"
     ]
    }
   ],
   "source": [
    "total_revenue = final_data['Amount (USD)'].sum()\n",
    "avg_revenue = final_data['Amount (USD)'].mean()\n",
    "print(f\"Total Revenue: ${total_revenue:.2f}, Average Revenue: ${avg_revenue:.2f}\")"
   ]
  }
 ],
 "metadata": {
  "kernelspec": {
   "display_name": "Python 3 (ipykernel)",
   "language": "python",
   "name": "python3"
  },
  "language_info": {
   "codemirror_mode": {
    "name": "ipython",
    "version": 3
   },
   "file_extension": ".py",
   "mimetype": "text/x-python",
   "name": "python",
   "nbconvert_exporter": "python",
   "pygments_lexer": "ipython3",
   "version": "3.13.0"
  }
 },
 "nbformat": 4,
 "nbformat_minor": 5
}
